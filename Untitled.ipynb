{
 "cells": [
  {
   "cell_type": "code",
   "execution_count": 2,
   "metadata": {},
   "outputs": [],
   "source": [
    "import gensim\n",
    "import numpy as np\n",
    "import matplotlib.pyplot as plt\n",
    "\n",
    "from sklearn.manifold import TSNE\n",
    "from gensim.models.wrappers import FastText\n",
    "import fastText\n",
    "#help(fastText.FastText)"
   ]
  },
  {
   "cell_type": "code",
   "execution_count": 3,
   "metadata": {},
   "outputs": [],
   "source": [
    "model_gensim = FastText.load_fasttext_format(\"../fasttext-embeddings/wiki.en\")\n",
    "model_fast = fastText.load_model(\"../fasttext-embeddings/wiki.en.bin\")"
   ]
  },
  {
   "cell_type": "code",
   "execution_count": 27,
   "metadata": {},
   "outputs": [],
   "source": [
    "def getSubWord(word):\n",
    "    idx = model_fast.get_subword_id(word)\n",
    "    return model_fast.get_input_vector(idx)\n",
    "def display_closestwords_tsnescatterplot(model, word, ind,dimensions=400):\n",
    "    plt.figure(ind)\n",
    "    arr = np.empty((0, 300), dtype='f')\n",
    "    word_labels = [word]\n",
    "\n",
    "    # get close words\n",
    "    close_words = model.similar_by_word(word)\n",
    "\n",
    "    # add the vector for each of the closest words to the array\n",
    "    arr = np.append(arr, np.array([model[word]]), axis=0)\n",
    "    for wrd_score in close_words:\n",
    "        wrd_vector = model[wrd_score[0]]\n",
    "        word_labels.append(wrd_score[0])\n",
    "        arr = np.append(arr, np.array([wrd_vector]), axis=0)\n",
    "\n",
    "    # find tsne coords for 2 dimensions\n",
    "    tsne = TSNE(n_components=2, random_state=0)\n",
    "    np.set_printoptions(suppress=True)\n",
    "    Y = tsne.fit_transform(arr)\n",
    "\n",
    "    x_coords = Y[:, 0]\n",
    "    y_coords = Y[:, 1]\n",
    "    # display scatter plot\n",
    "    plt.scatter(x_coords, y_coords)\n",
    "\n",
    "    for label, x, y in zip(word_labels, x_coords, y_coords):\n",
    "        plt.annotate(label, xy=(x, y), xytext=(0, 0), textcoords='offset points')\n",
    "    plt.xlim(x_coords.min() + 0.00005, x_coords.max() + 0.00005)\n",
    "    plt.ylim(y_coords.min() + 0.00005, y_coords.max() + 0.00005)\n",
    "\n",
    "#vec1 onto vec2\n",
    "def projection(vec1, vec2):\n",
    "    mag = np.dot(vec1, vec2)/(np.linalg.norm(vec2)**2)\n",
    "    return mag*vec2, np.dot(vec1, vec2)/(np.linalg.norm(vec2))\n",
    "\n",
    "#Finds bias\n",
    "def projectedOnDim(dim1, dim2, wordVec):\n",
    "    dim = dim1-dim2\n",
    "    vec, scalar = projection(wordVec,dim)\n",
    "    return vec, scalar\n",
    "\n",
    "def similarWordsplots(model,contexts):\n",
    "    ind = 0\n",
    "    for i in contexts:\n",
    "        for j in i:\n",
    "            if j in model.wv.vocab:\n",
    "                print(\"yes!\")\n",
    "                display_closestwords_tsnescatterplot(model, j, ind)\n",
    "            ind+=1\n",
    "    plt.show()\n"
   ]
  },
  {
   "cell_type": "code",
   "execution_count": 28,
   "metadata": {},
   "outputs": [],
   "source": [
    "#Test\n",
    "idxs = model_fast.get_subwords(\"vehicle\")[1]\n",
    "w1_fast = np.average([model_fast.get_input_vector(i) for i in idxs], axis=0)"
   ]
  },
  {
   "cell_type": "code",
   "execution_count": null,
   "metadata": {},
   "outputs": [],
   "source": []
  }
 ],
 "metadata": {
  "kernelspec": {
   "display_name": "Python 3",
   "language": "python",
   "name": "python3"
  },
  "language_info": {
   "codemirror_mode": {
    "name": "ipython",
    "version": 3
   },
   "file_extension": ".py",
   "mimetype": "text/x-python",
   "name": "python",
   "nbconvert_exporter": "python",
   "pygments_lexer": "ipython3",
   "version": "3.6.3"
  }
 },
 "nbformat": 4,
 "nbformat_minor": 2
}
